{
 "cells": [
  {
   "cell_type": "code",
   "execution_count": 2,
   "id": "7b4ba6c0-609a-4fb6-9b7d-f1035c1514dd",
   "metadata": {},
   "outputs": [],
   "source": [
    "from bs4 import BeautifulSoup"
   ]
  },
  {
   "cell_type": "code",
   "execution_count": 2,
   "id": "cdee0451-47f1-4350-bc35-18e460a6f089",
   "metadata": {},
   "outputs": [],
   "source": [
    "with open(\"/Users/Tensor/Downloads/html-doc.html\") as file:\n",
    "    soup = BeautifulSoup(file, 'html.parser')"
   ]
  },
  {
   "cell_type": "code",
   "execution_count": 3,
   "id": "59358453-a957-4ae0-a936-a8c069650dd7",
   "metadata": {},
   "outputs": [
    {
     "data": {
      "text/plain": [
       "bs4.BeautifulSoup"
      ]
     },
     "execution_count": 3,
     "metadata": {},
     "output_type": "execute_result"
    }
   ],
   "source": [
    "type(soup)"
   ]
  },
  {
   "cell_type": "code",
   "execution_count": 5,
   "id": "69b8b193-def5-4195-89c3-e214dae15c66",
   "metadata": {},
   "outputs": [
    {
     "name": "stdout",
     "output_type": "stream",
     "text": [
      "<html>\n",
      " <head>\n",
      "  <title>\n",
      "   The Dormouse's story\n",
      "  </title>\n",
      " </head>\n",
      " <body>\n",
      "  <p class=\"title\">\n",
      "   <b>\n",
      "    The Dormouse's story\n",
      "   </b>\n",
      "  </p>\n",
      "  <p class=\"story\">\n",
      "   Once upon a time there were three little sisters; and their names were\n",
      "   <a class=\"sister\" href=\"http://example.com/elsie\" id=\"link1\">\n",
      "    Elsie\n",
      "   </a>\n",
      "   ,\n",
      "   <a class=\"sister\" href=\"http://example.com/lacie\" id=\"link2\">\n",
      "    Lacie\n",
      "   </a>\n",
      "   and\n",
      "   <a class=\"sister\" href=\"http://example.com/tillie\" id=\"link3\">\n",
      "    Tillie\n",
      "   </a>\n",
      "   ;\n",
      "and they lived at the bottom of a well.\n",
      "  </p>\n",
      "  <p class=\"story\">\n",
      "   ...\n",
      "  </p>\n",
      " </body>\n",
      "</html>\n",
      "\n"
     ]
    }
   ],
   "source": [
    "print(soup.prettify())"
   ]
  },
  {
   "cell_type": "code",
   "execution_count": 6,
   "id": "d229b3d5-8fae-491e-9ca4-0e1ed91b274a",
   "metadata": {},
   "outputs": [
    {
     "data": {
      "text/plain": [
       "<title>The Dormouse's story</title>"
      ]
     },
     "execution_count": 6,
     "metadata": {},
     "output_type": "execute_result"
    }
   ],
   "source": [
    "soup.title"
   ]
  },
  {
   "cell_type": "code",
   "execution_count": 7,
   "id": "d54cc1a1-41e3-4f2a-a018-7fc64ab05a25",
   "metadata": {},
   "outputs": [
    {
     "data": {
      "text/plain": [
       "<a class=\"sister\" href=\"http://example.com/elsie\" id=\"link1\">Elsie</a>"
      ]
     },
     "execution_count": 7,
     "metadata": {},
     "output_type": "execute_result"
    }
   ],
   "source": [
    "soup.a"
   ]
  },
  {
   "cell_type": "code",
   "execution_count": 8,
   "id": "69914441-1eb1-4a68-a17d-e44de227bf1c",
   "metadata": {},
   "outputs": [
    {
     "name": "stdout",
     "output_type": "stream",
     "text": [
      "<class 'bs4.element.Tag'>\n"
     ]
    },
    {
     "data": {
      "text/plain": [
       "\"The Dormouse's story\""
      ]
     },
     "execution_count": 8,
     "metadata": {},
     "output_type": "execute_result"
    }
   ],
   "source": [
    "print(type(soup.title))\n",
    "soup.title.text\n",
    "# similarly soup.title.name will return the name of the tag i.e. here it is title"
   ]
  },
  {
   "cell_type": "code",
   "execution_count": 9,
   "id": "933860a8-aae4-46ae-b58c-a81efd71f59f",
   "metadata": {},
   "outputs": [
    {
     "data": {
      "text/plain": [
       "<head><title>The Dormouse's story</title></head>"
      ]
     },
     "execution_count": 9,
     "metadata": {},
     "output_type": "execute_result"
    }
   ],
   "source": [
    "soup.title.parent"
   ]
  },
  {
   "cell_type": "code",
   "execution_count": 10,
   "id": "4e364a6b-82ce-4392-ac2d-5d0e8a7e838f",
   "metadata": {},
   "outputs": [
    {
     "data": {
      "text/plain": [
       "<head><title>The Dormouse's story</title></head>"
      ]
     },
     "execution_count": 10,
     "metadata": {},
     "output_type": "execute_result"
    }
   ],
   "source": [
    "soup.head"
   ]
  },
  {
   "cell_type": "code",
   "execution_count": 13,
   "id": "a32cba05-91e9-4683-8db7-3b858194ba06",
   "metadata": {},
   "outputs": [
    {
     "data": {
      "text/plain": [
       "<html><head><title>The Dormouse's story</title></head>\n",
       "<body>\n",
       "<p class=\"title\"><b>The Dormouse's story</b></p>\n",
       "<p class=\"story\">Once upon a time there were three little sisters; and their names were\n",
       "<a class=\"sister\" href=\"http://example.com/elsie\" id=\"link1\">Elsie</a>,\n",
       "<a class=\"sister\" href=\"http://example.com/lacie\" id=\"link2\">Lacie</a> and\n",
       "<a class=\"sister\" href=\"http://example.com/tillie\" id=\"link3\">Tillie</a>;\n",
       "and they lived at the bottom of a well.</p>\n",
       "<p class=\"story\">...</p></body></html>"
      ]
     },
     "execution_count": 13,
     "metadata": {},
     "output_type": "execute_result"
    }
   ],
   "source": [
    "soup.head.parent"
   ]
  },
  {
   "cell_type": "code",
   "execution_count": 14,
   "id": "0c671832-bb6b-4b18-91c0-dbbb656f3c26",
   "metadata": {},
   "outputs": [
    {
     "data": {
      "text/plain": [
       "<body>\n",
       "<p class=\"title\"><b>The Dormouse's story</b></p>\n",
       "<p class=\"story\">Once upon a time there were three little sisters; and their names were\n",
       "<a class=\"sister\" href=\"http://example.com/elsie\" id=\"link1\">Elsie</a>,\n",
       "<a class=\"sister\" href=\"http://example.com/lacie\" id=\"link2\">Lacie</a> and\n",
       "<a class=\"sister\" href=\"http://example.com/tillie\" id=\"link3\">Tillie</a>;\n",
       "and they lived at the bottom of a well.</p>\n",
       "<p class=\"story\">...</p></body>"
      ]
     },
     "execution_count": 14,
     "metadata": {},
     "output_type": "execute_result"
    }
   ],
   "source": [
    "soup.body"
   ]
  },
  {
   "cell_type": "code",
   "execution_count": 15,
   "id": "bfa3b49b-9c65-4634-bed8-e0c30b6b90b3",
   "metadata": {},
   "outputs": [
    {
     "data": {
      "text/plain": [
       "<list_iterator at 0x108f30190>"
      ]
     },
     "execution_count": 15,
     "metadata": {},
     "output_type": "execute_result"
    }
   ],
   "source": [
    "soup.body.children"
   ]
  },
  {
   "cell_type": "code",
   "execution_count": 16,
   "id": "8e6cca87-b45b-4d5d-9c57-7cad0f426a03",
   "metadata": {},
   "outputs": [
    {
     "name": "stdout",
     "output_type": "stream",
     "text": [
      "\n",
      "\n",
      "<p class=\"title\"><b>The Dormouse's story</b></p>\n",
      "\n",
      "\n",
      "<p class=\"story\">Once upon a time there were three little sisters; and their names were\n",
      "<a class=\"sister\" href=\"http://example.com/elsie\" id=\"link1\">Elsie</a>,\n",
      "<a class=\"sister\" href=\"http://example.com/lacie\" id=\"link2\">Lacie</a> and\n",
      "<a class=\"sister\" href=\"http://example.com/tillie\" id=\"link3\">Tillie</a>;\n",
      "and they lived at the bottom of a well.</p>\n",
      "\n",
      "\n",
      "<p class=\"story\">...</p>\n"
     ]
    }
   ],
   "source": [
    "for child in soup.body.children:\n",
    "    print(child)"
   ]
  },
  {
   "cell_type": "code",
   "execution_count": 17,
   "id": "4743b1d1-847a-4553-9118-0ee6e6fb0da0",
   "metadata": {},
   "outputs": [
    {
     "data": {
      "text/plain": [
       "<generator object Tag.descendants at 0x1067364d0>"
      ]
     },
     "execution_count": 17,
     "metadata": {},
     "output_type": "execute_result"
    }
   ],
   "source": [
    "#descendants\n",
    "\n",
    "soup.body.descendants"
   ]
  },
  {
   "cell_type": "code",
   "execution_count": 18,
   "id": "9a5f2c3d-d420-4ee3-8807-feeeaf91b90f",
   "metadata": {},
   "outputs": [
    {
     "name": "stdout",
     "output_type": "stream",
     "text": [
      "\n",
      "\n",
      "<p class=\"title\"><b>The Dormouse's story</b></p>\n",
      "<b>The Dormouse's story</b>\n",
      "The Dormouse's story\n",
      "\n",
      "\n",
      "<p class=\"story\">Once upon a time there were three little sisters; and their names were\n",
      "<a class=\"sister\" href=\"http://example.com/elsie\" id=\"link1\">Elsie</a>,\n",
      "<a class=\"sister\" href=\"http://example.com/lacie\" id=\"link2\">Lacie</a> and\n",
      "<a class=\"sister\" href=\"http://example.com/tillie\" id=\"link3\">Tillie</a>;\n",
      "and they lived at the bottom of a well.</p>\n",
      "Once upon a time there were three little sisters; and their names were\n",
      "\n",
      "<a class=\"sister\" href=\"http://example.com/elsie\" id=\"link1\">Elsie</a>\n",
      "Elsie\n",
      ",\n",
      "\n",
      "<a class=\"sister\" href=\"http://example.com/lacie\" id=\"link2\">Lacie</a>\n",
      "Lacie\n",
      " and\n",
      "\n",
      "<a class=\"sister\" href=\"http://example.com/tillie\" id=\"link3\">Tillie</a>\n",
      "Tillie\n",
      ";\n",
      "and they lived at the bottom of a well.\n",
      "\n",
      "\n",
      "<p class=\"story\">...</p>\n",
      "...\n"
     ]
    }
   ],
   "source": [
    "for descendants in soup.body.descendants:\n",
    "    print(descendants)"
   ]
  },
  {
   "cell_type": "code",
   "execution_count": 20,
   "id": "63f47c55-c198-4ace-abcc-aac029125de1",
   "metadata": {},
   "outputs": [
    {
     "data": {
      "text/plain": [
       "<body>\n",
       "<p class=\"title\"><b>The Dormouse's story</b></p>\n",
       "<p class=\"story\">Once upon a time there were three little sisters; and their names were\n",
       "<a class=\"sister\" href=\"http://example.com/elsie\" id=\"link1\">Elsie</a>,\n",
       "<a class=\"sister\" href=\"http://example.com/lacie\" id=\"link2\">Lacie</a> and\n",
       "<a class=\"sister\" href=\"http://example.com/tillie\" id=\"link3\">Tillie</a>;\n",
       "and they lived at the bottom of a well.</p>\n",
       "<p class=\"story\">...</p></body>"
      ]
     },
     "execution_count": 20,
     "metadata": {},
     "output_type": "execute_result"
    }
   ],
   "source": [
    "#get_text\n",
    "\n",
    "soup.body\n",
    "\n"
   ]
  },
  {
   "cell_type": "code",
   "execution_count": 24,
   "id": "4dd96c76-13a8-4482-a9f5-dc72cd1ded8b",
   "metadata": {},
   "outputs": [
    {
     "name": "stdout",
     "output_type": "stream",
     "text": [
      "\n",
      "The Dormouse's story\n",
      "Once upon a time there were three little sisters; and their names were\n",
      "Elsie,\n",
      "Lacie and\n",
      "Tillie;\n",
      "and they lived at the bottom of a well.\n",
      "...\n"
     ]
    }
   ],
   "source": [
    "print(soup.body.get_text()) # a method"
   ]
  },
  {
   "cell_type": "code",
   "execution_count": 23,
   "id": "0e6fcf1f-cf88-4ddf-a444-a23c82b6eb35",
   "metadata": {},
   "outputs": [
    {
     "name": "stdout",
     "output_type": "stream",
     "text": [
      "\n",
      "The Dormouse's story\n",
      "Once upon a time there were three little sisters; and their names were\n",
      "Elsie,\n",
      "Lacie and\n",
      "Tillie;\n",
      "and they lived at the bottom of a well.\n",
      "...\n"
     ]
    }
   ],
   "source": [
    "print(soup.body.text)  # a property"
   ]
  },
  {
   "cell_type": "code",
   "execution_count": 5,
   "id": "d3e20fd6-92be-47ab-b50f-c9d33c3f30a7",
   "metadata": {},
   "outputs": [
    {
     "data": {
      "text/plain": [
       "<a class=\"sister\" href=\"http://example.com/elsie\" id=\"link1\">Elsie</a>"
      ]
     },
     "execution_count": 5,
     "metadata": {},
     "output_type": "execute_result"
    }
   ],
   "source": [
    "#find\n",
    "\n",
    "soup.find('a')"
   ]
  },
  {
   "cell_type": "code",
   "execution_count": 7,
   "id": "2a7fd15a-5a55-4308-960d-3da3dfd7d689",
   "metadata": {},
   "outputs": [
    {
     "data": {
      "text/plain": [
       "[<a class=\"sister\" href=\"http://example.com/elsie\" id=\"link1\">Elsie</a>,\n",
       " <a class=\"sister\" href=\"http://example.com/lacie\" id=\"link2\">Lacie</a>,\n",
       " <a class=\"sister\" href=\"http://example.com/tillie\" id=\"link3\">Tillie</a>]"
      ]
     },
     "execution_count": 7,
     "metadata": {},
     "output_type": "execute_result"
    }
   ],
   "source": [
    "#find_all\n",
    "soup.find_all('a')"
   ]
  },
  {
   "cell_type": "code",
   "execution_count": 8,
   "id": "b73c0fe5-5cda-4510-9c2a-3ca12e1d90e9",
   "metadata": {},
   "outputs": [
    {
     "data": {
      "text/plain": [
       "bs4.element.ResultSet"
      ]
     },
     "execution_count": 8,
     "metadata": {},
     "output_type": "execute_result"
    }
   ],
   "source": [
    "type(soup.find_all('a'))"
   ]
  },
  {
   "cell_type": "code",
   "execution_count": 12,
   "id": "9140bc4e-3a3e-4ad2-b7ef-a9e90864e572",
   "metadata": {},
   "outputs": [
    {
     "data": {
      "text/plain": [
       "['sister']"
      ]
     },
     "execution_count": 12,
     "metadata": {},
     "output_type": "execute_result"
    }
   ],
   "source": [
    "# to get a specific value inside a particular tag\n",
    "soup.a['class']"
   ]
  },
  {
   "cell_type": "code",
   "execution_count": 10,
   "id": "4934aea1-dbcc-433f-9fb4-fdb065442a02",
   "metadata": {},
   "outputs": [
    {
     "data": {
      "text/plain": [
       "'http://example.com/elsie'"
      ]
     },
     "execution_count": 10,
     "metadata": {},
     "output_type": "execute_result"
    }
   ],
   "source": [
    "soup.a['href']"
   ]
  },
  {
   "cell_type": "code",
   "execution_count": 13,
   "id": "60000787-ce09-42e6-9c91-30d49da61363",
   "metadata": {},
   "outputs": [
    {
     "data": {
      "text/plain": [
       "['sister']"
      ]
     },
     "execution_count": 13,
     "metadata": {},
     "output_type": "execute_result"
    }
   ],
   "source": [
    "soup.a.get('class')\n",
    "# better practice as you won't get a key error is the key doesn't exist, it just returns none"
   ]
  },
  {
   "cell_type": "markdown",
   "id": "760a6d15-a6ab-48fb-8f93-e65e56bd4244",
   "metadata": {},
   "source": [
    "# Fetching webpage with requests"
   ]
  },
  {
   "cell_type": "code",
   "execution_count": 3,
   "id": "e3ae22c0-7cee-49d7-b6a8-3d01ef686599",
   "metadata": {},
   "outputs": [],
   "source": [
    "uri = \"https://www.bbc.com/sport/football/premier-league/top-scorers\""
   ]
  },
  {
   "cell_type": "code",
   "execution_count": 4,
   "id": "d4655186-87fb-4692-907d-c97d0353eda0",
   "metadata": {},
   "outputs": [],
   "source": [
    "import requests"
   ]
  },
  {
   "cell_type": "code",
   "execution_count": 5,
   "id": "d681a3eb-a0be-4ba7-a2e6-716b5474b4d1",
   "metadata": {},
   "outputs": [
    {
     "name": "stdout",
     "output_type": "stream",
     "text": [
      "Succesful\n"
     ]
    }
   ],
   "source": [
    "try:\n",
    "    response = requests.get(uri)\n",
    "    response.raise_for_status()\n",
    "except Exception as e:\n",
    "    print(e)\n",
    "else:\n",
    "    soup = BeautifulSoup(response.content, 'html.parser')\n",
    "    print('Succesful')"
   ]
  },
  {
   "cell_type": "code",
   "execution_count": 6,
   "id": "289cf395-ae7d-45c4-a32f-82ef6dfffd1f",
   "metadata": {},
   "outputs": [
    {
     "data": {
      "text/plain": [
       "'<!DOCTYPE html><html lang=\"en-GB\" class=\"no-js\"><head><meta charSet=\"utf-8\" /><meta name=\"viewport\" content=\"width=device-width, initial-scale=1\" /><title data-rh=\"true\">Premier League Top Scorers - B'"
      ]
     },
     "execution_count": 6,
     "metadata": {},
     "output_type": "execute_result"
    }
   ],
   "source": [
    "# content (string format). Converted from orginal binary-string\n",
    "response.text[:200]"
   ]
  },
  {
   "cell_type": "code",
   "execution_count": 7,
   "id": "8ee72137-b40e-47c4-b141-8971c8333937",
   "metadata": {},
   "outputs": [
    {
     "data": {
      "text/plain": [
       "b'<!DOCTYPE html><html lang=\"en-GB\" class=\"no-js\"><head><meta charSet=\"utf-8\" /><meta name=\"viewport\" content=\"width=device-width, initial-scale=1\" /><title data-rh=\"true\">Premier League Top Scorers - B'"
      ]
     },
     "execution_count": 7,
     "metadata": {},
     "output_type": "execute_result"
    }
   ],
   "source": [
    "# content (binary-string format)\n",
    "\n",
    "# this is the original raw datat of the http resonpse, without the request decoding of it in string using a best guess encoding.\n",
    "\n",
    "response.content[:200]\n",
    "\n"
   ]
  },
  {
   "cell_type": "code",
   "execution_count": 8,
   "id": "be76396a-5a6a-4b18-93b6-61228037d472",
   "metadata": {},
   "outputs": [],
   "source": [
    "#soup object\n",
    "\n",
    "#we pass the content of the webpage\n",
    "\n",
    "soup = BeautifulSoup(response.content, \"html.parser\")"
   ]
  },
  {
   "cell_type": "code",
   "execution_count": 9,
   "id": "42c872da-f268-493c-90eb-b8bf2976ac81",
   "metadata": {},
   "outputs": [
    {
     "data": {
      "text/plain": [
       "'<!DOCTYPE html>\\n<html class=\"no-js\" lang=\"en-GB\">\\n <head>\\n  <meta charset=\"utf-8\"/>\\n  <meta content=\"width=device-width, initial-scale=1\" name=\"viewport\"/>\\n  <title data-rh=\"true\">\\n   Premier League T'"
      ]
     },
     "execution_count": 9,
     "metadata": {},
     "output_type": "execute_result"
    }
   ],
   "source": [
    "soup.prettify()[:200]"
   ]
  },
  {
   "cell_type": "code",
   "execution_count": 10,
   "id": "162231ae-7692-4bdf-94fc-a805567a3a04",
   "metadata": {},
   "outputs": [
    {
     "data": {
      "text/plain": [
       "2"
      ]
     },
     "execution_count": 10,
     "metadata": {},
     "output_type": "execute_result"
    }
   ],
   "source": [
    "len(soup.find_all('tbody'))"
   ]
  },
  {
   "cell_type": "code",
   "execution_count": 11,
   "id": "a156880e-879e-43c1-a9c1-66f1fac996d6",
   "metadata": {},
   "outputs": [
    {
     "data": {
      "text/plain": [
       "'<tbody>\\n <tr class=\"ssrcss-qqhdqi-TableRowBody e1icz100\">\\n  <td class=\"ssrcss-hqk70a-StyledTableData ef9ipf1\">\\n   <div class=\"ssrcss-5tf6t0-CellWrapper ef9ipf0\" value=\"1\">\\n    <div class=\"ssrcss-wjp01q-RankAndBadgeWrapper e1n6h4mf2\">\\n     <span class=\"ssrcss-1xljqjf-Rank e1n6h4mf1\">\\n      1\\n     </span>\\n     <div class=\"ssrcss-pp8itw-BadgeWrapper e1n6h4mf0\">\\n      <div class=\"ssrcss-bdya4g-MobileOnlyWrapper e1v3gc7i1\">\\n       <div class=\"ssrcss-1ij97kg-BadgeContainer ezmsq4q1\" data-testid=\"badge-container-manchester-city\" size=\"20\">\\n        <img alt=\"\" aria-hidden=\"true\" class=\"ssrcss-1knyx38-BadgeImage ezmsq4q0\" data-testid=\"badge-img-manchester-city\" src=\"https://static.files.bbci.co.uk/core/website/assets/static/sport/football/manchester-city.9024a874d6.svg\"/>\\n       </div>\\n      </div>\\n      <div class=\"ssrcss-dngukv-DesktopOnlyWrapper e1v3gc7i0\">\\n       <div class=\"ssrcss-1b9x5pa-BadgeContainer ezmsq4q1\" data-testid=\"badge-container-manchester-city\" size=\"24\">\\n        <img alt=\"\" aria-hidden=\"true\" class=\"ssrcss-1knyx38-BadgeImage ezmsq4q0\" data-testid=\"badge-img-manchester-city\" src=\"https://static.files.bbci.co.uk/core/website/assets/static/sport/football/manchester-city.9024a874d6.svg\"/>\\n       </div>\\n      </div>\\n     </div>\\n    </div>\\n   </div>\\n  </td>\\n  <td class=\"ssrcss-hqk70a-StyledTableData ef9ipf1\">\\n   <div class=\"ssrcss-5tf6t0-CellWrapper ef9ipf0\">\\n    <div data-player-id=\"urn:bbc:sportsdata:football:player:s-atzboo800gv7gic2rgvgo0kq1\" data-team-id=\"urn:bbc:sportsdata:football:team:manchester-city\">\\n    </div>\\n    <div class=\"ssrcss-dngukv-DesktopOnlyWrapper e1v3gc7i0\">\\n     <div role=\"text\">\\n      <div class=\"ssrcss-m6ah29-PlayerName e1n8xy5b1\">\\n       E. Haaland\\n      </div>\\n      <div class=\"ssrcss-qvpga1-TeamsSummary e1n8xy5b0\">\\n       Man City\\n      </div>\\n     </div>\\n    </div>\\n    <div class=\"ssrcss-bdya4g-MobileOnlyWrapper e1v3gc7i1\">\\n     <div role=\"text\">\\n      <div class=\"ssrcss-m6ah29-PlayerName e1n8xy5b1\">\\n       E. Haaland\\n      </div>\\n      <div class=\"ssrcss-qvpga1-TeamsSummary e1n8xy5b0\">\\n       Man City\\n      </div>\\n     </div>\\n    </div>\\n   </div>\\n  </td>\\n  <td class=\"ssrcss-126tggj-StyledTableData ef9ipf1\">\\n   <div class=\"ssrcss-18ap757-CellWrapper ef9ipf0\" value=\"3\">\\n    3\\n   </div>\\n  </td>\\n  <td class=\"ssrcss-k6a35j-StyledTableData ef9ipf1\">\\n   <div class=\"ssrcss-18ap757-CellWrapper ef9ipf0\" value=\"3\">\\n    3\\n   </div>\\n  </td>\\n  <td class=\"ssrcss-126tggj-StyledTableData ef9ipf1\">\\n   <div class=\"ssrcss-1vo7v3r-CellWrapper ef9ipf0\" value=\"0\">\\n    0\\n   </div>\\n  </td>\\n  <td class=\"ssrcss-k6a35j-StyledTableData ef9ipf1\">\\n   <div class=\"ssrcss-1vo7v3r-CellWrapper ef9ipf0\" value=\"0\">\\n    0\\n   </div>\\n  </td>\\n  <td class=\"ssrcss-126tggj-StyledTableData ef9ipf1\">\\n   <div class=\"ssrcss-1vo7v3r-CellWrapper ef9ipf0\" value=\"3\">\\n    3\\n   </div>\\n  </td>\\n  <td class=\"ssrcss-k6a35j-StyledTableData ef9ipf1\">\\n   <div class=\"ssrcss-1vo7v3r-CellWrapper ef9ipf0\" value=\"3\">\\n    3\\n   </div>\\n  </td>\\n  <td class=\"ssrcss-126tggj-StyledTa'"
      ]
     },
     "execution_count": 11,
     "metadata": {},
     "output_type": "execute_result"
    }
   ],
   "source": [
    "soup.find('tbody').prettify()[:3000]\n",
    "#we need the first occurence of tbody"
   ]
  },
  {
   "cell_type": "code",
   "execution_count": 12,
   "id": "6800d38c-ef7b-48ae-b9fb-8fa529956582",
   "metadata": {},
   "outputs": [
    {
     "name": "stdout",
     "output_type": "stream",
     "text": [
      "59\n"
     ]
    }
   ],
   "source": [
    "print(len(soup.find('tbody').find_all('tr', class_='ssrcss-qqhdqi-TableRowBody e1icz100')))"
   ]
  },
  {
   "cell_type": "code",
   "execution_count": 13,
   "id": "6690bf10-3ee0-45f5-9ca9-a67595858ceb",
   "metadata": {},
   "outputs": [],
   "source": [
    "players = soup.find('tbody').find_all('tr', class_='ssrcss-qqhdqi-TableRowBody e1icz100')\n",
    "player_name = []\n",
    "player_team = []"
   ]
  },
  {
   "cell_type": "code",
   "execution_count": 14,
   "id": "e1a3fb38-0c65-47fa-b1c3-30c688e8bb35",
   "metadata": {},
   "outputs": [],
   "source": [
    "for player in players:\n",
    "    player_name.append(player.find('div', class_='ssrcss-m6ah29-PlayerName e1n8xy5b1').get_text(strip = True))\n",
    "    player_team.append(player.find('div', class_='ssrcss-qvpga1-TeamsSummary e1n8xy5b0').get_text(strip = True))"
   ]
  },
  {
   "cell_type": "code",
   "execution_count": 15,
   "id": "012e58b0-1565-4e3c-8e12-655d43a6b5e9",
   "metadata": {},
   "outputs": [
    {
     "name": "stdout",
     "output_type": "stream",
     "text": [
      "E. Haaland  :  Man City\n",
      "João Pedro  :  Chelsea\n",
      "J. Timber  :  Arsenal\n",
      "H. Ekitiké  :  Liverpool\n",
      "Richarlison  :  Tottenham\n",
      "E. Fernández  :  Chelsea\n",
      "J. Anthony  :  Burnley\n",
      "A. Semenyo  :  Bournemouth\n",
      "W. Isidor  :  Sunderland\n",
      "B. Johnson  :  Tottenham\n",
      "V. Gyökeres  :  Arsenal\n",
      "C. Wood  :  Nottm Forest\n",
      "I. Ndiaye  :  Everton\n",
      "I. Sarr  :  Crystal Palace\n",
      "Lucas Paquetá  :  West Ham\n",
      "Igor Thiago  :  Brentford\n",
      "R. Calafiori  :  Arsenal\n",
      "C. Gakpo  :  Liverpool\n",
      "D. Ndoye  :  Nottm Forest\n",
      "Mohamed Salah  :  Liverpool\n",
      "J. Cullen  :  Burnley\n",
      "K. Dewsbury-Hall  :  Everton\n",
      "T. Reijnders  :  Man City\n",
      "R. Ngumoha  :  Liverpool\n",
      "F. Chiesa  :  Liverpool\n",
      "J. Milner  :  Brighton\n",
      "B. Gruda  :  Brighton\n",
      "Rodrigo Gomes  :  Wolves\n",
      "E. Smith Rowe  :  Fulham\n",
      "R. Cherki  :  Man City\n",
      "C. Wilson  :  West Ham\n",
      "Hwang Hee-Chan  :  Wolves\n",
      "D. Ballard  :  Sunderland\n",
      "W. Osula  :  Newcastle\n",
      "L. Nmecha  :  Leeds\n",
      "E. Le Fée  :  Sunderland\n",
      "B. Saka  :  Arsenal\n",
      "João Palhinha  :  Tottenham\n",
      "Rodrigo Muniz  :  Fulham\n",
      "D. Ouattara  :  Brentford\n",
      "M. O'Riley  :  Brighton\n",
      "R. Gravenberch  :  Liverpool\n",
      "Beto  :  Everton\n",
      "Eliezer Mayenda  :  Sunderland\n",
      "T. Chalobah  :  Chelsea\n",
      "M. Tavernier  :  Bournemouth\n",
      "L. Foster  :  Burnley\n",
      "C. Hudson-Odoi  :  Nottm Forest\n",
      "Evanilson  :  Bournemouth\n",
      "Pedro Neto  :  Chelsea\n",
      "J. Mateta  :  Crystal Palace\n",
      "Bruno Guimarães  :  Newcastle\n",
      "M. Guéhi  :  Crystal Palace\n",
      "J. Garner  :  Everton\n",
      "M. Caicedo  :  Chelsea\n",
      "D. Szoboszlai  :  Liverpool\n",
      "J. Bowen  :  West Ham\n",
      "B. Mbeumo  :  Man Utd\n",
      "Bruno Fernandes  :  Man Utd\n"
     ]
    }
   ],
   "source": [
    "for i in range(len(player_name)):\n",
    "    print(player_name[i], \" : \", player_team[i])\n",
    "\n",
    "goals = []"
   ]
  },
  {
   "cell_type": "code",
   "execution_count": 16,
   "id": "ba2d4e33-f1a6-4e99-b00e-9984205787bd",
   "metadata": {},
   "outputs": [],
   "source": [
    "for player in players:\n",
    "    goal = int(player.find('div', class_='ssrcss-18ap757-CellWrapper ef9ipf0').get_text(strip = True))\n",
    "    goals.append(goal)"
   ]
  },
  {
   "cell_type": "code",
   "execution_count": 17,
   "id": "ee9a1be2-9fc5-4eae-914f-1ffe1ed614e2",
   "metadata": {},
   "outputs": [
    {
     "name": "stdout",
     "output_type": "stream",
     "text": [
      "<div class=\"ssrcss-1vo7v3r-CellWrapper ef9ipf0\" value=\"0\">0</div>\n",
      "<div class=\"ssrcss-1vo7v3r-CellWrapper ef9ipf0\" value=\"0\">0</div>\n",
      "<div class=\"ssrcss-1vo7v3r-CellWrapper ef9ipf0\" value=\"3\">3</div>\n",
      "<div class=\"ssrcss-1vo7v3r-CellWrapper ef9ipf0\" value=\"3\">3</div>\n",
      "<div class=\"ssrcss-1vo7v3r-CellWrapper ef9ipf0\" value=\"1.07\">1.07</div>\n",
      "<div class=\"ssrcss-1vo7v3r-CellWrapper ef9ipf0\" value=\"84\">84</div>\n",
      "<div class=\"ssrcss-1vo7v3r-CellWrapper ef9ipf0\" value=\"84\">84</div>\n",
      "<div class=\"ssrcss-1vo7v3r-CellWrapper ef9ipf0\" value=\"14\">14</div>\n",
      "<div class=\"ssrcss-1vo7v3r-CellWrapper ef9ipf0\" value=\"21%\">21%</div>\n",
      "<div class=\"ssrcss-1vo7v3r-CellWrapper ef9ipf0\" value=\"36%\">36%</div>\n"
     ]
    }
   ],
   "source": [
    "# We see that the assists, matched played and shots taken being represented in same div tag\n",
    "\n",
    "# 'ssrcss-1vo7v3r-CellWrapper ef9ipf0' all are represented under this only\n",
    "for player in players:\n",
    "    for div_tag in player.find_all('div', class_='ssrcss-1vo7v3r-CellWrapper ef9ipf0'):\n",
    "        print(div_tag)\n",
    "    break # so only first player stat is printed\n",
    "\n",
    "assists = []\n",
    "matches_played = []\n",
    "shots_taken = []"
   ]
  },
  {
   "cell_type": "code",
   "execution_count": 18,
   "id": "8a65d1ff-53cd-414a-80b1-c0014876b80c",
   "metadata": {},
   "outputs": [],
   "source": [
    "for player in players:\n",
    "    div_tag = player.find_all('div', class_='ssrcss-1vo7v3r-CellWrapper ef9ipf0')\n",
    "    assists.append(int(div_tag[0].get_text(strip = True)))\n",
    "    matches_played.append(int(div_tag[2].get_text(strip = True)))\n",
    "    shots_taken.append(int(div_tag[-3].get_text(strip = True)))"
   ]
  },
  {
   "cell_type": "code",
   "execution_count": 19,
   "id": "676d06f6-983d-4690-bcef-b362b3a06258",
   "metadata": {},
   "outputs": [
    {
     "name": "stdout",
     "output_type": "stream",
     "text": [
      "0 3 14\n",
      "2 3 8\n",
      "1 3 4\n",
      "1 3 5\n",
      "1 3 8\n",
      "1 3 4\n",
      "1 3 7\n",
      "1 3 10\n",
      "0 3 4\n",
      "0 3 4\n",
      "0 3 3\n",
      "0 3 7\n",
      "0 3 3\n",
      "0 3 3\n",
      "0 3 5\n",
      "0 3 6\n",
      "2 3 7\n",
      "2 3 6\n",
      "1 3 1\n",
      "1 3 4\n",
      "1 3 1\n",
      "1 3 1\n",
      "1 3 5\n",
      "0 1 1\n",
      "0 3 2\n",
      "0 2 1\n",
      "0 3 5\n",
      "0 2 3\n",
      "0 3 3\n",
      "0 2 1\n",
      "0 3 6\n",
      "0 3 1\n",
      "0 2 4\n",
      "0 3 3\n",
      "0 3 3\n",
      "0 3 2\n",
      "0 2 2\n",
      "0 3 1\n",
      "0 3 5\n",
      "0 2 3\n",
      "0 2 4\n",
      "0 2 2\n",
      "0 3 3\n",
      "0 3 3\n",
      "0 3 5\n",
      "0 3 7\n",
      "0 3 3\n",
      "0 3 4\n",
      "0 3 8\n",
      "0 3 3\n",
      "0 3 6\n",
      "0 3 1\n",
      "0 3 2\n",
      "0 3 3\n",
      "0 3 3\n",
      "0 3 4\n",
      "0 3 7\n",
      "0 3 8\n",
      "0 3 8\n"
     ]
    }
   ],
   "source": [
    "for i in range(len(shots_taken)):\n",
    "    print(assists[i], matches_played[i], shots_taken[i])"
   ]
  },
  {
   "cell_type": "code",
   "execution_count": 20,
   "id": "e7322b37-4d1c-4b02-993b-c7964cb50b92",
   "metadata": {},
   "outputs": [
    {
     "data": {
      "text/plain": [
       "59"
      ]
     },
     "execution_count": 20,
     "metadata": {},
     "output_type": "execute_result"
    }
   ],
   "source": [
    "len(goals)"
   ]
  },
  {
   "cell_type": "code",
   "execution_count": 21,
   "id": "da29792b-3d59-41dc-8e1b-e52ca94cd82c",
   "metadata": {},
   "outputs": [],
   "source": [
    "data = {\n",
    "    'player':player_name,\n",
    "    'team':player_team,\n",
    "    'matches played':matches_played,\n",
    "    'goals':goals,\n",
    "    'assists':assists,\n",
    "    'shots taken':shots_taken\n",
    "}"
   ]
  },
  {
   "cell_type": "code",
   "execution_count": 22,
   "id": "7720de2a-5c3a-454c-a4d2-109dea9a4563",
   "metadata": {},
   "outputs": [],
   "source": [
    "import pandas as pd\n",
    "\n",
    "df_players = pd.DataFrame(data)"
   ]
  },
  {
   "cell_type": "code",
   "execution_count": 25,
   "id": "80ba29bd-cbe0-45c9-91a8-5f3b473e850d",
   "metadata": {},
   "outputs": [
    {
     "data": {
      "text/html": [
       "<div>\n",
       "<style scoped>\n",
       "    .dataframe tbody tr th:only-of-type {\n",
       "        vertical-align: middle;\n",
       "    }\n",
       "\n",
       "    .dataframe tbody tr th {\n",
       "        vertical-align: top;\n",
       "    }\n",
       "\n",
       "    .dataframe thead th {\n",
       "        text-align: right;\n",
       "    }\n",
       "</style>\n",
       "<table border=\"1\" class=\"dataframe\">\n",
       "  <thead>\n",
       "    <tr style=\"text-align: right;\">\n",
       "      <th></th>\n",
       "      <th>player</th>\n",
       "      <th>team</th>\n",
       "      <th>matches played</th>\n",
       "      <th>goals</th>\n",
       "      <th>assists</th>\n",
       "      <th>shots taken</th>\n",
       "    </tr>\n",
       "  </thead>\n",
       "  <tbody>\n",
       "    <tr>\n",
       "      <th>0</th>\n",
       "      <td>E. Haaland</td>\n",
       "      <td>Man City</td>\n",
       "      <td>3</td>\n",
       "      <td>3</td>\n",
       "      <td>0</td>\n",
       "      <td>14</td>\n",
       "    </tr>\n",
       "    <tr>\n",
       "      <th>1</th>\n",
       "      <td>João Pedro</td>\n",
       "      <td>Chelsea</td>\n",
       "      <td>3</td>\n",
       "      <td>2</td>\n",
       "      <td>2</td>\n",
       "      <td>8</td>\n",
       "    </tr>\n",
       "    <tr>\n",
       "      <th>2</th>\n",
       "      <td>J. Timber</td>\n",
       "      <td>Arsenal</td>\n",
       "      <td>3</td>\n",
       "      <td>2</td>\n",
       "      <td>1</td>\n",
       "      <td>4</td>\n",
       "    </tr>\n",
       "    <tr>\n",
       "      <th>3</th>\n",
       "      <td>H. Ekitiké</td>\n",
       "      <td>Liverpool</td>\n",
       "      <td>3</td>\n",
       "      <td>2</td>\n",
       "      <td>1</td>\n",
       "      <td>5</td>\n",
       "    </tr>\n",
       "    <tr>\n",
       "      <th>4</th>\n",
       "      <td>Richarlison</td>\n",
       "      <td>Tottenham</td>\n",
       "      <td>3</td>\n",
       "      <td>2</td>\n",
       "      <td>1</td>\n",
       "      <td>8</td>\n",
       "    </tr>\n",
       "  </tbody>\n",
       "</table>\n",
       "</div>"
      ],
      "text/plain": [
       "        player       team  matches played  goals  assists  shots taken\n",
       "0   E. Haaland   Man City               3      3        0           14\n",
       "1   João Pedro    Chelsea               3      2        2            8\n",
       "2    J. Timber    Arsenal               3      2        1            4\n",
       "3   H. Ekitiké  Liverpool               3      2        1            5\n",
       "4  Richarlison  Tottenham               3      2        1            8"
      ]
     },
     "execution_count": 25,
     "metadata": {},
     "output_type": "execute_result"
    }
   ],
   "source": [
    "df_players.head()"
   ]
  },
  {
   "cell_type": "code",
   "execution_count": 26,
   "id": "f69f2520-1b21-432c-ab1c-06179dab724c",
   "metadata": {},
   "outputs": [
    {
     "name": "stdout",
     "output_type": "stream",
     "text": [
      "<class 'pandas.core.frame.DataFrame'>\n",
      "RangeIndex: 59 entries, 0 to 58\n",
      "Data columns (total 6 columns):\n",
      " #   Column          Non-Null Count  Dtype \n",
      "---  ------          --------------  ----- \n",
      " 0   player          59 non-null     object\n",
      " 1   team            59 non-null     object\n",
      " 2   matches played  59 non-null     int64 \n",
      " 3   goals           59 non-null     int64 \n",
      " 4   assists         59 non-null     int64 \n",
      " 5   shots taken     59 non-null     int64 \n",
      "dtypes: int64(4), object(2)\n",
      "memory usage: 2.9+ KB\n"
     ]
    }
   ],
   "source": [
    "df_players.info()"
   ]
  },
  {
   "cell_type": "code",
   "execution_count": 27,
   "id": "5c480787-99c4-4310-80c9-bf2c6b793d2e",
   "metadata": {},
   "outputs": [
    {
     "data": {
      "text/html": [
       "<div>\n",
       "<style scoped>\n",
       "    .dataframe tbody tr th:only-of-type {\n",
       "        vertical-align: middle;\n",
       "    }\n",
       "\n",
       "    .dataframe tbody tr th {\n",
       "        vertical-align: top;\n",
       "    }\n",
       "\n",
       "    .dataframe thead th {\n",
       "        text-align: right;\n",
       "    }\n",
       "</style>\n",
       "<table border=\"1\" class=\"dataframe\">\n",
       "  <thead>\n",
       "    <tr style=\"text-align: right;\">\n",
       "      <th></th>\n",
       "      <th>matches played</th>\n",
       "      <th>goals</th>\n",
       "      <th>assists</th>\n",
       "      <th>shots taken</th>\n",
       "    </tr>\n",
       "  </thead>\n",
       "  <tbody>\n",
       "    <tr>\n",
       "      <th>count</th>\n",
       "      <td>59.000000</td>\n",
       "      <td>59.000000</td>\n",
       "      <td>59.000000</td>\n",
       "      <td>59.000000</td>\n",
       "    </tr>\n",
       "    <tr>\n",
       "      <th>mean</th>\n",
       "      <td>2.830508</td>\n",
       "      <td>1.288136</td>\n",
       "      <td>0.288136</td>\n",
       "      <td>4.237288</td>\n",
       "    </tr>\n",
       "    <tr>\n",
       "      <th>std</th>\n",
       "      <td>0.421514</td>\n",
       "      <td>0.493085</td>\n",
       "      <td>0.558657</td>\n",
       "      <td>2.608600</td>\n",
       "    </tr>\n",
       "    <tr>\n",
       "      <th>min</th>\n",
       "      <td>1.000000</td>\n",
       "      <td>1.000000</td>\n",
       "      <td>0.000000</td>\n",
       "      <td>1.000000</td>\n",
       "    </tr>\n",
       "    <tr>\n",
       "      <th>25%</th>\n",
       "      <td>3.000000</td>\n",
       "      <td>1.000000</td>\n",
       "      <td>0.000000</td>\n",
       "      <td>3.000000</td>\n",
       "    </tr>\n",
       "    <tr>\n",
       "      <th>50%</th>\n",
       "      <td>3.000000</td>\n",
       "      <td>1.000000</td>\n",
       "      <td>0.000000</td>\n",
       "      <td>4.000000</td>\n",
       "    </tr>\n",
       "    <tr>\n",
       "      <th>75%</th>\n",
       "      <td>3.000000</td>\n",
       "      <td>2.000000</td>\n",
       "      <td>0.000000</td>\n",
       "      <td>6.000000</td>\n",
       "    </tr>\n",
       "    <tr>\n",
       "      <th>max</th>\n",
       "      <td>3.000000</td>\n",
       "      <td>3.000000</td>\n",
       "      <td>2.000000</td>\n",
       "      <td>14.000000</td>\n",
       "    </tr>\n",
       "  </tbody>\n",
       "</table>\n",
       "</div>"
      ],
      "text/plain": [
       "       matches played      goals    assists  shots taken\n",
       "count       59.000000  59.000000  59.000000    59.000000\n",
       "mean         2.830508   1.288136   0.288136     4.237288\n",
       "std          0.421514   0.493085   0.558657     2.608600\n",
       "min          1.000000   1.000000   0.000000     1.000000\n",
       "25%          3.000000   1.000000   0.000000     3.000000\n",
       "50%          3.000000   1.000000   0.000000     4.000000\n",
       "75%          3.000000   2.000000   0.000000     6.000000\n",
       "max          3.000000   3.000000   2.000000    14.000000"
      ]
     },
     "execution_count": 27,
     "metadata": {},
     "output_type": "execute_result"
    }
   ],
   "source": [
    "df_players.describe()"
   ]
  },
  {
   "cell_type": "code",
   "execution_count": null,
   "id": "e77ff609-7b9b-4d43-99d9-3d6368e9a487",
   "metadata": {},
   "outputs": [],
   "source": []
  }
 ],
 "metadata": {
  "kernelspec": {
   "display_name": "web_scraping",
   "language": "python",
   "name": "web_scraping"
  },
  "language_info": {
   "codemirror_mode": {
    "name": "ipython",
    "version": 3
   },
   "file_extension": ".py",
   "mimetype": "text/x-python",
   "name": "python",
   "nbconvert_exporter": "python",
   "pygments_lexer": "ipython3",
   "version": "3.13.5"
  }
 },
 "nbformat": 4,
 "nbformat_minor": 5
}
