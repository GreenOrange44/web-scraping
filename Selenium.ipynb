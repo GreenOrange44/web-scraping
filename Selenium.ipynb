{
 "cells": [
  {
   "cell_type": "code",
   "execution_count": 1,
   "id": "2cefbaf6-a54b-4ae1-a79b-a840e6feb81f",
   "metadata": {},
   "outputs": [],
   "source": [
    "from selenium import webdriver\n"
   ]
  },
  {
   "cell_type": "code",
   "execution_count": 2,
   "id": "cb8ce974-b7ae-4eaa-abe2-6361a4d134ac",
   "metadata": {},
   "outputs": [
    {
     "name": "stdout",
     "output_type": "stream",
     "text": [
      "/opt/homebrew/bin/geckodriver\n",
      "geckodriver 0.36.0\n",
      "\n",
      "The source code of this program is available from\n",
      "testing/geckodriver in https://hg.mozilla.org/mozilla-central.\n",
      "\n",
      "This program is subject to the terms of the Mozilla Public License 2.0.\n",
      "You can obtain a copy of the license at https://mozilla.org/MPL/2.0/.\n"
     ]
    }
   ],
   "source": [
    "!which geckodriver\n",
    "!geckodriver --version"
   ]
  },
  {
   "cell_type": "code",
   "execution_count": 6,
   "id": "5e517fc9-fbff-4d20-8022-a2b1e30a42ef",
   "metadata": {},
   "outputs": [
    {
     "name": "stdout",
     "output_type": "stream",
     "text": [
      "Launched Firefox with Selenium 🚀\n"
     ]
    }
   ],
   "source": [
    "from selenium.webdriver.firefox.service import Service\n",
    "import time\n",
    "# Update this path depending on Step 1\n",
    "service = Service(\"/opt/homebrew/bin/geckodriver\")  \n",
    "\n",
    "driver = webdriver.Firefox(service=service)\n",
    "print(\"Launched Firefox with Selenium 🚀\")\n",
    "time.sleep(5)\n",
    "driver.maximize_window()\n",
    "time.sleep(5)\n",
    "driver.quit()"
   ]
  },
  {
   "cell_type": "code",
   "execution_count": 11,
   "id": "3d322155-1185-4543-9a2b-f4acf459818a",
   "metadata": {},
   "outputs": [
    {
     "name": "stdout",
     "output_type": "stream",
     "text": [
      "Google\n",
      "https://www.google.com/\n"
     ]
    }
   ],
   "source": [
    "url = \"https://www.google.com\"\n",
    "\n",
    "driver = webdriver.Firefox(service=service)\n",
    "\n",
    "driver.get(url)\n",
    "print(driver.title)\n",
    "print(driver.current_url)\n",
    "time.sleep(5)\n",
    "driver.quit()"
   ]
  },
  {
   "cell_type": "code",
   "execution_count": 13,
   "id": "9cb71667-720c-4a79-ba2a-7041ab0da92e",
   "metadata": {},
   "outputs": [
    {
     "name": "stdout",
     "output_type": "stream",
     "text": [
      "ss taken\n"
     ]
    }
   ],
   "source": [
    "driver = webdriver.Firefox(service=service)\n",
    "\n",
    "driver.get(url)\n",
    "\n",
    "driver.save_screenshot(\"google-screenshot.png\")\n",
    "print(\"ss taken\")"
   ]
  },
  {
   "cell_type": "code",
   "execution_count": 14,
   "id": "f967ef37-f434-467a-a369-f92c5495c7a1",
   "metadata": {},
   "outputs": [],
   "source": [
    "driver.quit()"
   ]
  },
  {
   "cell_type": "code",
   "execution_count": null,
   "id": "d390ccd8-3cb8-44a7-b5df-a4d2b2e997c6",
   "metadata": {},
   "outputs": [],
   "source": []
  }
 ],
 "metadata": {
  "kernelspec": {
   "display_name": "web_scraping",
   "language": "python",
   "name": "web_scraping"
  },
  "language_info": {
   "codemirror_mode": {
    "name": "ipython",
    "version": 3
   },
   "file_extension": ".py",
   "mimetype": "text/x-python",
   "name": "python",
   "nbconvert_exporter": "python",
   "pygments_lexer": "ipython3",
   "version": "3.13.5"
  }
 },
 "nbformat": 4,
 "nbformat_minor": 5
}
