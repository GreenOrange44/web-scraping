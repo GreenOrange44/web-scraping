{
 "cells": [
  {
   "cell_type": "code",
   "execution_count": 1,
   "id": "2cefbaf6-a54b-4ae1-a79b-a840e6feb81f",
   "metadata": {},
   "outputs": [],
   "source": [
    "#If working with Firefox import all these\n",
    "\n",
    "from selenium import webdriver\n",
    "from selenium.webdriver.common.by import By\n",
    "from selenium.webdriver.common.keys import Keys\n",
    "from selenium.webdriver.firefox.service import Service\n",
    "\n",
    "import time"
   ]
  },
  {
   "cell_type": "code",
   "execution_count": 2,
   "id": "cb8ce974-b7ae-4eaa-abe2-6361a4d134ac",
   "metadata": {},
   "outputs": [
    {
     "name": "stdout",
     "output_type": "stream",
     "text": [
      "/opt/homebrew/bin/geckodriver\n",
      "geckodriver 0.36.0\n",
      "\n",
      "The source code of this program is available from\n",
      "testing/geckodriver in https://hg.mozilla.org/mozilla-central.\n",
      "\n",
      "This program is subject to the terms of the Mozilla Public License 2.0.\n",
      "You can obtain a copy of the license at https://mozilla.org/MPL/2.0/.\n"
     ]
    }
   ],
   "source": [
    "!which geckodriver\n",
    "!geckodriver --version"
   ]
  },
  {
   "cell_type": "code",
   "execution_count": 4,
   "id": "5e517fc9-fbff-4d20-8022-a2b1e30a42ef",
   "metadata": {},
   "outputs": [
    {
     "name": "stdout",
     "output_type": "stream",
     "text": [
      "Launched Firefox with Selenium 🚀\n"
     ]
    }
   ],
   "source": [
    "\n",
    "# Update this path depending on Step 1\n",
    "service = Service(\"/opt/homebrew/bin/geckodriver\")  \n",
    "\n",
    "driver = webdriver.Firefox(service=service)\n",
    "print(\"Launched Firefox with Selenium 🚀\")\n",
    "time.sleep(5)\n",
    "driver.maximize_window()\n",
    "time.sleep(5)\n",
    "driver.quit()"
   ]
  },
  {
   "cell_type": "code",
   "execution_count": 11,
   "id": "3d322155-1185-4543-9a2b-f4acf459818a",
   "metadata": {},
   "outputs": [
    {
     "name": "stdout",
     "output_type": "stream",
     "text": [
      "Google\n",
      "https://www.google.com/\n"
     ]
    }
   ],
   "source": [
    "url = \"https://www.google.com\"\n",
    "\n",
    "driver = webdriver.Firefox(service=service)\n",
    "\n",
    "driver.get(url)\n",
    "print(driver.title)\n",
    "print(driver.current_url)\n",
    "time.sleep(5)\n",
    "driver.quit()"
   ]
  },
  {
   "cell_type": "code",
   "execution_count": 11,
   "id": "9cb71667-720c-4a79-ba2a-7041ab0da92e",
   "metadata": {},
   "outputs": [],
   "source": [
    "url = \"https://www.google.com\"\n",
    "driver = webdriver.Firefox(service=service)\n",
    "\n",
    "driver.get(url)\n"
   ]
  },
  {
   "cell_type": "code",
   "execution_count": 30,
   "id": "f967ef37-f434-467a-a369-f92c5495c7a1",
   "metadata": {},
   "outputs": [],
   "source": [
    "driver.quit()"
   ]
  },
  {
   "cell_type": "code",
   "execution_count": 26,
   "id": "d390ccd8-3cb8-44a7-b5df-a4d2b2e997c6",
   "metadata": {},
   "outputs": [],
   "source": [
    "#to locate the search bar\n",
    "#we copy the x path\n",
    "driver = webdriver.Firefox(service=service)\n",
    "driver.get(url)\n",
    "\n",
    "time.sleep(2)\n",
    "\n",
    "search_bar_xpath = '//*[@id=\"APjFqb\"]'\n",
    "\n",
    "search_bar = driver.find_element(by = By.XPATH, value = search_bar_xpath)\n",
    "\n",
    "#enter input\n",
    "search_bar.send_keys(\"machine learning\")\n",
    "time.sleep(4)\n",
    "\n",
    "#clear the text\n",
    "#search_bar.clear()\n",
    "#time.sleep(2)\n",
    "\n",
    "# clicking key\n",
    "search_bar.send_keys(Keys.ENTER)\n",
    "\n"
   ]
  },
  {
   "cell_type": "code",
   "execution_count": 27,
   "id": "4c1094c6-2222-42b8-a381-6c0ace607d9b",
   "metadata": {},
   "outputs": [],
   "source": [
    "#clicking the link\n",
    "link_xpath = '/html/body/div[3]/div/div[11]/div[2]/div[1]/div[2]/div/div/div[2]/div/div/div/div[1]/div/div/span/a/h3'\n",
    "link = driver.find_element(By.XPATH, link_xpath)\n",
    "link.click()\n",
    "\n",
    "driver.quit()"
   ]
  },
  {
   "cell_type": "code",
   "execution_count": 2,
   "id": "2cbf2306-d636-4cfb-8588-3f4fe7da8bfb",
   "metadata": {},
   "outputs": [],
   "source": [
    "from selenium.webdriver.chrome.service import Service as Service2\n",
    "from selenium.webdriver.support.ui import WebDriverWait\n",
    "from selenium.webdriver.support import expected_conditions as EC\n",
    "\n",
    "url = 'https://github.com/'\n",
    "service2 = Service2(\"/opt/homebrew/bin/chromedriver\")\n",
    "driver = webdriver.Chrome(service = service2)\n",
    "driver.maximize_window()\n",
    "time.sleep(1)\n",
    "\n",
    "driver.get(url)\n",
    "time.sleep(2)\n",
    "\n",
    "sign_in_XPATH = '//html/body/div[1]/div[3]/header/div/div[1]/div[2]/a'\n",
    "# Wait until the \"Sign in\" link is clickable\n",
    "sign_in = WebDriverWait(driver, 10).until(\n",
    "    EC.element_to_be_clickable((By.LINK_TEXT, \"Sign in\"))\n",
    ")\n",
    "sign_in.click()\n",
    "\n",
    "time.delay(2)\n",
    "\n",
    "\n",
    "#username\n",
    "username_xpath = \"//input[@id='login_field']\"\n",
    "username_field = driver.find_element(By.XPATH, username_xpath)\n",
    "username_field.clear()\n",
    "username_field.send_keys('swayam')\n",
    "\n",
    "time.sleep(1)\n",
    "#password \n",
    "password_field = driver.find_element(By.XPATH, \"//input[@id='password']\")\n",
    "password_field.send_keys('pass123')\n",
    "time.sleep(2)\n",
    "\n",
    "#sign in button\n",
    "\n",
    "submit = driver.find_element(By.XPATH, \"//input[@name='commit']\")\n",
    "submit.click()\n",
    "time.delay(2)\n",
    "driver.quit()\n"
   ]
  },
  {
   "cell_type": "code",
   "execution_count": 1,
   "id": "5242f0ba-4fba-4e4c-83c5-809f46bea29a",
   "metadata": {},
   "outputs": [],
   "source": [
    "#Now let's us work with chrome only\n",
    "from selenium import webdriver\n",
    "from selenium.webdriver.common.by import By\n",
    "from selenium.webdriver.common.keys import Keys\n",
    "from selenium.webdriver.chrome.service import Service\n",
    "from selenium.webdriver.support.select import Select\n",
    "\n",
    "from selenium.webdriver.support.ui import WebDriverWait\n",
    "from selenium.webdriver.support import expected_conditions as EC\n",
    "import time"
   ]
  },
  {
   "cell_type": "code",
   "execution_count": 2,
   "id": "07e68adf-c569-47b9-8dac-6f63d8ad2a70",
   "metadata": {},
   "outputs": [],
   "source": [
    "#initialsing chrome driver\n",
    "\n",
    "service = Service(\"/opt/homebrew/bin/chromedriver\")"
   ]
  },
  {
   "cell_type": "code",
   "execution_count": 23,
   "id": "d04a9717-4590-4089-b4c3-91b8d0fb85c3",
   "metadata": {},
   "outputs": [],
   "source": [
    "#Now let's work with dropdown\n",
    "\n",
    "url = 'https://www.miniclip.com/careers/vacancies'\n",
    "driver = webdriver.Chrome(service = service)\n",
    "driver.maximize_window()\n",
    "driver.get(url)\n",
    "time.sleep(2)\n",
    "\n",
    "dropdown_xpath = \"//fieldset[3]//select[1]\"\n",
    "departments_field = driver.find_element(By.XPATH, dropdown_xpath)\n",
    "departments_dropdown = Select(departments_field) #now it is treated as dropdown element\n",
    "departments_dropdown.select_by_index(5)\n",
    "\n",
    "time.sleep(4)\n",
    "departments_dropdown.select_by_visible_text(\"Art\")\n",
    "time.sleep(4)\n",
    "\n",
    "driver.quit()"
   ]
  },
  {
   "cell_type": "code",
   "execution_count": 27,
   "id": "c10e9a3d-9271-4084-86dd-e6adc36bb118",
   "metadata": {},
   "outputs": [],
   "source": [
    "#Working with multiselect\n",
    "\n",
    "url = 'https://demoqa.com/select-menu'\n",
    "driver = webdriver.Chrome(service = service)\n",
    "driver.maximize_window()\n",
    "driver.get(url)\n",
    "time.sleep(2)\n",
    "\n",
    "\n",
    "cars_element = driver.find_element(By.XPATH, '//*[@id=\"cars\"]')\n",
    "\n",
    "cars_ms = Select(cars_element) #making a select object \n",
    "time.sleep(2)\n",
    "\n",
    "cars_ms.select_by_index(1)\n",
    "time.sleep(2)\n",
    "\n",
    "cars_ms.select_by_visible_text(\"Audi\")\n",
    "time.sleep(2)\n",
    "\n",
    "cars_ms.select_by_visible_text(\"Opel\")\n",
    "time.sleep(2.5)\n",
    "\n",
    "cars_ms.deselect_by_index(2)\n",
    "time.sleep(2)\n",
    "\n",
    "cars_ms.deselect_all()\n",
    "time.sleep(4)\n",
    "\n",
    "driver.quit()\n"
   ]
  },
  {
   "cell_type": "code",
   "execution_count": 22,
   "id": "e0f92b1d-b3da-4925-905a-460978beb27d",
   "metadata": {},
   "outputs": [],
   "source": [
    "#Basic Scrolling\n",
    "driver = webdriver.Chrome(service = service)\n",
    "driver.maximize_window()\n",
    "\n",
    "url = \"https://en.wikipedia.org/wiki/Machine_learning\"\n",
    "driver.get(url)\n",
    "time.sleep(2)\n",
    "\n",
    "#scrolling by element\n",
    "ai_xpath = \"//h3[@id='Artificial_intelligence']\"\n",
    "ai_subtopic = driver.find_element(By.XPATH, ai_xpath)\n",
    "driver.execute_script(\"arguments[0].scrollIntoView();\", ai_subtopic)\n",
    "\n",
    "time.sleep(3);\n",
    "\n",
    "#scrolling by vertically\n",
    "driver.execute_script(\"window.scrollBy(0, 1000);\")\n",
    "\n",
    "time.sleep(3);\n",
    "\n",
    "driver.execute_script(\"window.scrollBy(0, -250);\")\n",
    "\n",
    "#scrolling by vertically\n",
    "driver.execute_script(\"window.scrollBy(0, 1000);\")\n",
    "\n",
    "time.sleep(3);\n",
    "\n",
    "driver.execute_script(\"window.scrollBy(0, -250);\")\n",
    "\n",
    "#scroll by page height\n",
    "\n",
    "driver.execute_script(\"window.scrollTo(0, document.body.scrollHeight);\")\n",
    "\n",
    "time.sleep(3)\n",
    "\n",
    "driver.execute_script(\"window.scrollTo(0, -document.body.scrollHeight);\")\n",
    "\n",
    "time.sleep(3)\n",
    "\n",
    "driver.quit()"
   ]
  },
  {
   "cell_type": "code",
   "execution_count": 28,
   "id": "5f5e1f85-0ec7-4d96-93a6-c72a7f70b0cb",
   "metadata": {},
   "outputs": [
    {
     "name": "stdout",
     "output_type": "stream",
     "text": [
      "Webpage height: 5,011 pixels\n",
      "Webpage height: 9,475 pixels\n",
      "Webpage height: 13,939 pixels\n",
      "Webpage height: 18,558 pixels\n",
      "Webpage height: 22,724 pixels\n",
      "\n",
      " Reached the end of the web page\n"
     ]
    }
   ],
   "source": [
    "#Infinite Scrolling\n",
    "\n",
    "driver = webdriver.Chrome(service = service)\n",
    "driver.maximize_window()\n",
    "\n",
    "url = \"https://www.google.com/search?client=firefox-b-d&sa=X&sca_esv=0027e473cd7295c4&stick=H4sIAAAAAAAAAONgVuLUz9U3MDQzNql4xGjCLfDyxz1hKe1Ja05eY1Tl4grOyC93zSvJLKkUEudig7J4pbi5ELp4FrGK-CbmJWekFpekFik4A1UouOk56wEA518qVFsAAAA&udm=2&fbs=AIIjpHxU7SXXniUZfeShr2fp4giZrjP_Cx0LI1Ytb_FGcOviEiaSXTsdMUiuBeEuSNqG6MGxAgmTPrUk32Qw7HMCrZRRmgQBnzlhL-K9pls9R8TfxWi1dKMuxk8d-F43xI0u2TBtbg4_2BISdLneyE5CsBZNr2fxWns3kmJ9C4JvjrK5fygP1dEoqPGNR0ZS04myltK8eAFhKc3VdizqQsIGxdhHvIYsNg&q=Manchester+City+F.C.&ved=2ahUKEwjA_a2QntaPAxVBo-kKHSSGAr8QtKgLegQIDhAB&biw=1463&bih=877&dpr=2\"\n",
    "driver.get(url)\n",
    "time.sleep(20)\n",
    "\n",
    "prev_height = driver.execute_script(\"return document.body.scrollHeight;\")\n",
    "\n",
    "while True:\n",
    "    print(f\"Webpage height: {prev_height:,} pixels\")\n",
    "    driver.execute_script(\"window.scrollTo(0, document.body.scrollHeight);\")\n",
    "    \n",
    "    time.sleep(10)\n",
    "\n",
    "    new_height = driver.execute_script(\"return document.body.scrollHeight;\")\n",
    "\n",
    "    if prev_height == new_height:\n",
    "        print(\"\\n Reached the end of the web page\")\n",
    "        break\n",
    "\n",
    "    prev_height = new_height\n",
    "\n",
    "driver.quit()"
   ]
  },
  {
   "cell_type": "code",
   "execution_count": 19,
   "id": "edabdad8-5df7-44b3-a812-f3bccc57fe40",
   "metadata": {},
   "outputs": [],
   "source": [
    "#Explicit wait\n",
    "\n",
    "driver = webdriver.Chrome(service = service)\n",
    "driver.maximize_window()\n",
    "\n",
    "url = \"https://www.google.com/\"\n",
    "driver.get(url)\n",
    "time.sleep(2)\n",
    "\n",
    "search_bar = driver.find_element(By.XPATH, '//*[@id=\"APjFqb\"]')\n",
    "search_bar.send_keys('machine learning')\n",
    "\n",
    "\n",
    "wait = WebDriverWait(driver, 5)\n",
    "wait.until(EC.element_to_be_clickable((By.XPATH, \"//div[@class='FPdoLc lJ9FBc']//input[@name='btnK']\")))\n",
    "#element_to .. expects tuple as the parameters\n",
    "search_bar.send_keys(Keys.ENTER)\n",
    "\n",
    "time.sleep(2)\n",
    "\n",
    "driver.quit()"
   ]
  },
  {
   "cell_type": "code",
   "execution_count": 5,
   "id": "93874813-1374-4eaf-87eb-526a9683abac",
   "metadata": {},
   "outputs": [],
   "source": [
    " #Implicit wait\n",
    "\n",
    "driver = webdriver.Chrome(service = service)\n",
    "driver.maximize_window()\n",
    "\n",
    "driver.implicitly_wait(10)\n",
    "\n",
    "url = \"https://www.google.com/\"\n",
    "driver.get(url)\n",
    "\n",
    "search_bar = driver.find_element(By.XPATH, '//*[@id=\"APjFqb\"]')\n",
    "search_bar.send_keys('machine learning')\n",
    "\n",
    "\n",
    "search_bar.send_keys(Keys.ENTER)\n",
    "\n",
    "time.sleep(5)\n",
    "\n",
    "driver.quit()"
   ]
  },
  {
   "cell_type": "code",
   "execution_count": 5,
   "id": "8b96174f-6187-4460-9f2a-d6c43aa04a91",
   "metadata": {},
   "outputs": [],
   "source": [
    "# iframe content\n",
    "\n",
    "driver = webdriver.Chrome(service = service)\n",
    "driver.maximize_window()\n",
    "\n",
    "driver.implicitly_wait(10)\n",
    "\n",
    "url = 'https://www.w3schools.com/html/tryit.asp?filename=tryhtml_iframe_target'\n",
    "driver.get(url)\n",
    "\n",
    "iframe_element = driver.find_element(By.XPATH, '//*[@id=\"iframeResult\"]')\n",
    "driver.switch_to.frame(iframe_element)\n",
    "\n",
    "link = driver.find_element(By.XPATH, '/html/body/p[1]/a')\n",
    "link.click()\n",
    "\n",
    "driver.switch_to.default_content()\n",
    "\n",
    "time.sleep(3)\n",
    "\n",
    "driver.quit()"
   ]
  },
  {
   "cell_type": "code",
   "execution_count": 8,
   "id": "c2b1ea64-069f-49f8-9dab-e192e72d723c",
   "metadata": {},
   "outputs": [
    {
     "name": "stdout",
     "output_type": "stream",
     "text": [
      "Alert text: I am an alert box!\n"
     ]
    }
   ],
   "source": [
    "#javascript alert\n",
    "\n",
    "driver = webdriver.Chrome(service = service)\n",
    "driver.maximize_window()\n",
    "\n",
    "driver.implicitly_wait(10)\n",
    "\n",
    "url = 'https://www.w3schools.com/JS/tryit.asp?filename=tryjs_alert'\n",
    "driver.get(url)\n",
    "\n",
    "iframe_element = driver.find_element(By.XPATH, '//*[@id=\"iframeResult\"]')\n",
    "driver.switch_to.frame(iframe_element)\n",
    "time.sleep(2.5)\n",
    "\n",
    "button = driver.find_element(By.XPATH, '/html/body/button')\n",
    "button.click()\n",
    "\n",
    "print(f\"Alert text: {driver.switch_to.alert.text}\")\n",
    "time.sleep(2.5)\n",
    "\n",
    "driver.switch_to.alert.accept()\n",
    "# driver.switch_to.alert.dismiss() #if you want it to be dismissed\n",
    "\n",
    "driver.switch_to.default_content()\n",
    "\n",
    "time.sleep(3.5)\n",
    "\n",
    "driver.quit()\n",
    "           "
   ]
  },
  {
   "cell_type": "code",
   "execution_count": 12,
   "id": "b3370d07-ef8c-450a-a282-920fe94e4897",
   "metadata": {},
   "outputs": [
    {
     "name": "stdout",
     "output_type": "stream",
     "text": [
      "Alert text: Please enter your name:\n"
     ]
    }
   ],
   "source": [
    "#javascript alert\n",
    "\n",
    "driver = webdriver.Chrome(service = service)\n",
    "driver.maximize_window()\n",
    "\n",
    "driver.implicitly_wait(10)\n",
    "\n",
    "url = 'https://www.w3schools.com/js/tryit.asp?filename=tryjs_prompt'\n",
    "driver.get(url)\n",
    "\n",
    "iframe_element = driver.find_element(By.XPATH, '//*[@id=\"iframeResult\"]')\n",
    "driver.switch_to.frame(iframe_element)\n",
    "time.sleep(2.5)\n",
    "\n",
    "button = driver.find_element(By.XPATH, '/html/body/button')\n",
    "button.click()\n",
    "\n",
    "print(f\"Alert text: {driver.switch_to.alert.text}\")\n",
    "time.sleep(2.5)\n",
    "\n",
    "driver.switch_to.alert.send_keys(\"Bruce Wayne\")\n",
    "time.sleep(1.5)\n",
    "#driver.switch_to.alert.accept()\n",
    "driver.switch_to.alert.dismiss()\n",
    "\n",
    "driver.switch_to.default_content()\n",
    "\n",
    "time.sleep(3.5)\n",
    "\n",
    "driver.quit()"
   ]
  },
  {
   "cell_type": "code",
   "execution_count": null,
   "id": "589ab89d-d0ce-4220-b247-07d9f4667891",
   "metadata": {},
   "outputs": [],
   "source": []
  }
 ],
 "metadata": {
  "kernelspec": {
   "display_name": "web_scraping",
   "language": "python",
   "name": "web_scraping"
  },
  "language_info": {
   "codemirror_mode": {
    "name": "ipython",
    "version": 3
   },
   "file_extension": ".py",
   "mimetype": "text/x-python",
   "name": "python",
   "nbconvert_exporter": "python",
   "pygments_lexer": "ipython3",
   "version": "3.13.5"
  }
 },
 "nbformat": 4,
 "nbformat_minor": 5
}
