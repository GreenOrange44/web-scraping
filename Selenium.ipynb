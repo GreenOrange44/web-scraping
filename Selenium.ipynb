{
 "cells": [
  {
   "cell_type": "code",
   "execution_count": 1,
   "id": "2cefbaf6-a54b-4ae1-a79b-a840e6feb81f",
   "metadata": {},
   "outputs": [],
   "source": [
    "from selenium import webdriver\n"
   ]
  },
  {
   "cell_type": "code",
   "execution_count": 3,
   "id": "cb8ce974-b7ae-4eaa-abe2-6361a4d134ac",
   "metadata": {},
   "outputs": [
    {
     "name": "stdout",
     "output_type": "stream",
     "text": [
      "/opt/homebrew/bin/geckodriver\n",
      "geckodriver 0.36.0\n",
      "\n",
      "The source code of this program is available from\n",
      "testing/geckodriver in https://hg.mozilla.org/mozilla-central.\n",
      "\n",
      "This program is subject to the terms of the Mozilla Public License 2.0.\n",
      "You can obtain a copy of the license at https://mozilla.org/MPL/2.0/.\n"
     ]
    }
   ],
   "source": [
    "!which geckodriver\n",
    "!geckodriver --version"
   ]
  },
  {
   "cell_type": "code",
   "execution_count": 5,
   "id": "5e517fc9-fbff-4d20-8022-a2b1e30a42ef",
   "metadata": {},
   "outputs": [
    {
     "name": "stdout",
     "output_type": "stream",
     "text": [
      "Launched Firefox with Selenium 🚀\n"
     ]
    }
   ],
   "source": [
    "from selenium.webdriver.firefox.service import Service\n",
    "\n",
    "# Update this path depending on Step 1\n",
    "service = Service(\"/opt/homebrew/bin/geckodriver\")  \n",
    "\n",
    "driver = webdriver.Firefox(service=service)\n",
    "print(\"Launched Firefox with Selenium 🚀\")\n",
    "driver.quit()"
   ]
  },
  {
   "cell_type": "code",
   "execution_count": null,
   "id": "3d322155-1185-4543-9a2b-f4acf459818a",
   "metadata": {},
   "outputs": [],
   "source": []
  }
 ],
 "metadata": {
  "kernelspec": {
   "display_name": "web_scraping",
   "language": "python",
   "name": "web_scraping"
  },
  "language_info": {
   "codemirror_mode": {
    "name": "ipython",
    "version": 3
   },
   "file_extension": ".py",
   "mimetype": "text/x-python",
   "name": "python",
   "nbconvert_exporter": "python",
   "pygments_lexer": "ipython3",
   "version": "3.13.5"
  }
 },
 "nbformat": 4,
 "nbformat_minor": 5
}
