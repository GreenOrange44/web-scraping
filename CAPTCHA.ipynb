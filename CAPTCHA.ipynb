{
 "cells": [
  {
   "cell_type": "code",
   "execution_count": 5,
   "id": "687a4ede-4339-4b03-b4ee-17966f0970be",
   "metadata": {},
   "outputs": [],
   "source": [
    "from selenium import webdriver\n",
    "from selenium.webdriver.common.by import By\n",
    "from selenium.webdriver.chrome.service import Service\n",
    "\n",
    "import time"
   ]
  },
  {
   "cell_type": "code",
   "execution_count": 4,
   "id": "0d262346-cbef-4cb0-8c21-a7df82f85277",
   "metadata": {},
   "outputs": [],
   "source": [
    "#initialsing chrome driver\n",
    "\n",
    "service = Service(\"/opt/homebrew/bin/chromedriver\")"
   ]
  },
  {
   "cell_type": "code",
   "execution_count": 14,
   "id": "c607524c-864d-45f2-8974-797c0c044d01",
   "metadata": {},
   "outputs": [
    {
     "name": "stdin",
     "output_type": "stream",
     "text": [
      "This will halt the script... solve your Captcha ..  \n"
     ]
    },
    {
     "name": "stdout",
     "output_type": "stream",
     "text": [
      "Captcha handled! Write the rest of the code\n"
     ]
    }
   ],
   "source": [
    "driver = webdriver.Chrome(service = service)\n",
    "driver.maximize_window()\n",
    "\n",
    "url = 'https://www.hackthissite.org/user/login'\n",
    "driver.get(url)\n",
    "time.sleep(2)\n",
    "\n",
    "username_field = driver.find_element(By.XPATH, \"//input[@id='login_username']\")\n",
    "password_field = driver.find_element(By.XPATH, \"//input[@id='login_password']\")\n",
    "login_button = driver.find_element(By.XPATH, \"//input[@value='Login']\")\n",
    "\n",
    "username_field.send_keys('abc')\n",
    "password_field.send_keys('123')\n",
    "login_button.click()\n",
    "\n",
    "\n",
    "captcha_xpath = '/html/body/table/tbody/tr[2]/td/table/tbody/tr/td[2]/form/table/tbody/tr[5]/td/img'\n",
    "captcha_element = driver.find_element(By.XPATH, captcha_xpath)\n",
    "\n",
    "if captcha_element:\n",
    "    x = input(\"This will halt the script... solve your Captcha .. \")\n",
    "\n",
    "print(\"Captcha handled! Write the rest of the code\")\n",
    "\n",
    "time.sleep(2)\n",
    "driver.quit()"
   ]
  },
  {
   "cell_type": "code",
   "execution_count": 12,
   "id": "fa99303a-6198-4dc5-8e5f-3daf2dcb15cf",
   "metadata": {},
   "outputs": [],
   "source": []
  },
  {
   "cell_type": "code",
   "execution_count": null,
   "id": "d11b9db7-5e2b-4190-918b-d9cad34cd592",
   "metadata": {},
   "outputs": [],
   "source": []
  }
 ],
 "metadata": {
  "kernelspec": {
   "display_name": "web_scraping",
   "language": "python",
   "name": "web_scraping"
  },
  "language_info": {
   "codemirror_mode": {
    "name": "ipython",
    "version": 3
   },
   "file_extension": ".py",
   "mimetype": "text/x-python",
   "name": "python",
   "nbconvert_exporter": "python",
   "pygments_lexer": "ipython3",
   "version": "3.13.5"
  }
 },
 "nbformat": 4,
 "nbformat_minor": 5
}
